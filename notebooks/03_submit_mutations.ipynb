{
 "cells": [
  {
   "cell_type": "markdown",
   "metadata": {},
   "source": [
    "## Summary\n",
    "\n",
    "1. Create a folder inside the `${DATA_DIR}/user_input` data directory (i.e. `/home/kimlab1/database_data/elaspic/user_input` in the case of our local setup).<br>Set `JOB_ID` to the name of the folder you created.\n",
    "\n",
    "1. Place a PDB file into that folder.\n",
    "\n",
    "---"
   ]
  },
  {
   "cell_type": "markdown",
   "metadata": {},
   "source": [
    "## Imports"
   ]
  },
  {
   "cell_type": "code",
   "execution_count": null,
   "metadata": {},
   "outputs": [],
   "source": [
    "from dotenv import load_dotenv\n",
    "\n",
    "load_dotenv(\"../.env\", override=True)"
   ]
  },
  {
   "cell_type": "code",
   "execution_count": null,
   "metadata": {},
   "outputs": [],
   "source": [
    "import io\n",
    "import os\n",
    "import random\n",
    "import tempfile\n",
    "from pathlib import Path\n",
    "\n",
    "import pandas as pd\n",
    "import requests\n",
    "import sqlalchemy as sa\n",
    "from kmbio import PDB\n",
    "from kmtools import structure_tools"
   ]
  },
  {
   "cell_type": "code",
   "execution_count": null,
   "metadata": {},
   "outputs": [],
   "source": [
    "pd.set_option(\"max_columns\", 1_000)\n",
    "pd.set_option(\"max_rows\", 1_000)"
   ]
  },
  {
   "cell_type": "markdown",
   "metadata": {},
   "source": [
    "## Parameters"
   ]
  },
  {
   "cell_type": "code",
   "execution_count": null,
   "metadata": {},
   "outputs": [],
   "source": [
    "NOTEBOOK_DIR = Path(\"03_submit_mutations\").resolve()\n",
    "NOTEBOOK_DIR.mkdir(exist_ok=True)\n",
    "\n",
    "NOTEBOOK_DIR"
   ]
  },
  {
   "cell_type": "code",
   "execution_count": null,
   "metadata": {},
   "outputs": [],
   "source": [
    "JOB_ID = \"mdm2-peptide\"\n",
    "\n",
    "JOB_ID"
   ]
  },
  {
   "cell_type": "code",
   "execution_count": null,
   "metadata": {},
   "outputs": [],
   "source": [
    "STRUCTURE_FILE = \"3eqs.pdb\"\n",
    "\n",
    "STRUCTURE_FILE"
   ]
  },
  {
   "cell_type": "code",
   "execution_count": null,
   "metadata": {},
   "outputs": [],
   "source": [
    "USER_INPUT_DIR = Path(os.environ[\"DATA_DIR\"], \"user_input\").resolve(strict=True)\n",
    "JOB_DIR = USER_INPUT_DIR.joinpath(JOB_ID)\n",
    "JOB_DIR.mkdir(exist_ok=True)\n",
    "\n",
    "JOB_DIR"
   ]
  },
  {
   "cell_type": "code",
   "execution_count": null,
   "metadata": {},
   "outputs": [],
   "source": [
    "ELASPIC_REST_API_URL = \"http://192.168.6.241:8080/api/v1/\"\n",
    "\n",
    "ELASPIC_REST_API_URL"
   ]
  },
  {
   "cell_type": "code",
   "execution_count": null,
   "metadata": {},
   "outputs": [],
   "source": [
    "DB_USER = os.environ[\"DB_USER\"]\n",
    "DB_PASSWORD = os.environ[\"DB_PASSWORD\"]\n",
    "DB_HOST = os.environ[\"DB_HOST\"]\n",
    "DB_PORT = os.environ[\"DB_PORT\"]\n",
    "\n",
    "engine = sa.create_engine(f\"mysql://{DB_USER}:{DB_PASSWORD}@{DB_HOST}:{DB_PORT}/elaspic_webserver\")"
   ]
  },
  {
   "cell_type": "markdown",
   "metadata": {},
   "source": [
    "## Helper functions"
   ]
  },
  {
   "cell_type": "markdown",
   "metadata": {},
   "source": [
    "## Workspace"
   ]
  },
  {
   "cell_type": "markdown",
   "metadata": {
    "id": "WmAAd5tj0z6H"
   },
   "source": [
    "### Load structure"
   ]
  },
  {
   "cell_type": "code",
   "execution_count": null,
   "metadata": {
    "id": "rPKG_6mu0z6I"
   },
   "outputs": [],
   "source": [
    "structure_ref = PDB.load(JOB_DIR.joinpath(STRUCTURE_FILE))"
   ]
  },
  {
   "cell_type": "code",
   "execution_count": null,
   "metadata": {
    "colab": {
     "base_uri": "https://localhost:8080/",
     "height": 17,
     "referenced_widgets": [
      "73d5ba91dc9944c4911edd828aca13b0",
      "2ed1a277b67d49ddb784e868dee67000"
     ]
    },
    "id": "4wIOQQoV0z6M",
    "outputId": "7d8c65b9-9e31-4955-bed2-0eb99779f100"
   },
   "outputs": [],
   "source": [
    "PDB.view_structure(structure_ref)"
   ]
  },
  {
   "cell_type": "code",
   "execution_count": null,
   "metadata": {
    "id": "_AAbp09e0z6Q"
   },
   "outputs": [],
   "source": [
    "# structure = PDB.Structure(STRUCTURE_FILE.split('.')[0])\n",
    "# model = PDB.Model(0)\n",
    "# structure.add(model)\n",
    "# chain2 = structure_ref[0][\"A\"].copy()\n",
    "# chain2.id = \"B\"\n",
    "# chain1 = structure_ref[0][\"B\"].copy()\n",
    "# chain1.id = \"A\"\n",
    "# model.add(chain1)\n",
    "# model.add(chain2)"
   ]
  },
  {
   "cell_type": "code",
   "execution_count": null,
   "metadata": {},
   "outputs": [],
   "source": [
    "structure = structure_ref"
   ]
  },
  {
   "cell_type": "code",
   "execution_count": null,
   "metadata": {
    "colab": {
     "base_uri": "https://localhost:8080/",
     "height": 17,
     "referenced_widgets": [
      "d03aa7001413445ca67df3a1a6e3ada3"
     ]
    },
    "id": "p52fjKtS0z6U",
    "outputId": "b467a45e-a9bf-4d1e-f258-ac0f430ad9fc"
   },
   "outputs": [],
   "source": [
    "PDB.view_structure(structure)"
   ]
  },
  {
   "cell_type": "code",
   "execution_count": null,
   "metadata": {},
   "outputs": [],
   "source": [
    "PDB.save(structure, JOB_DIR.joinpath(\"input.pdb\"))"
   ]
  },
  {
   "cell_type": "markdown",
   "metadata": {
    "id": "c1MhwjWB0z6e"
   },
   "source": [
    "### Get sequence"
   ]
  },
  {
   "cell_type": "code",
   "execution_count": null,
   "metadata": {},
   "outputs": [],
   "source": [
    "sequence = structure_tools.get_chain_sequence(\n",
    "    structure[0][\"A\"], if_unknown=\"replace\", unknown_residue_marker=\"\"\n",
    ")\n",
    "\n",
    "sequence"
   ]
  },
  {
   "cell_type": "markdown",
   "metadata": {},
   "source": [
    "### Get mutations"
   ]
  },
  {
   "cell_type": "code",
   "execution_count": null,
   "metadata": {},
   "outputs": [],
   "source": [
    "df = structure.to_dataframe()\n",
    "interface_slice_df = df[\n",
    "    (df[\"chain_id\"] == \"A\") & (df[\"residue_id_1\"] >= 51) & (df[\"residue_id_1\"] <= 61)\n",
    "]\n",
    "\n",
    "interface_slice_df.head()"
   ]
  },
  {
   "cell_type": "code",
   "execution_count": null,
   "metadata": {},
   "outputs": [],
   "source": [
    "mutations = []\n",
    "for tup in (\n",
    "    interface_slice_df[[\"chain_id\", \"residue_idx\", \"residue_resname\"]]\n",
    "    .drop_duplicates()\n",
    "    .itertuples()\n",
    "):\n",
    "    wt = structure_tools.constants.AAA_DICT[tup.residue_resname]\n",
    "    mut = \"F\" if wt != \"E\" else \"G\"\n",
    "    mutations.append(f\"{wt}{tup.residue_idx + 1}{mut}\")\n",
    "\n",
    "mutations"
   ]
  },
  {
   "cell_type": "markdown",
   "metadata": {},
   "source": [
    "### Remove finished mutations"
   ]
  },
  {
   "cell_type": "code",
   "execution_count": null,
   "metadata": {},
   "outputs": [],
   "source": [
    "sql = f\"\"\"\\\n",
    "select *\n",
    "from elaspic_core_mutation_local\n",
    "where protein_id = '{JOB_ID}' and ddg is not NULL;\n",
    "\"\"\"\n",
    "\n",
    "finished_df = pd.read_sql_query(sql, engine)\n",
    "len(finished_df)"
   ]
  },
  {
   "cell_type": "code",
   "execution_count": null,
   "metadata": {},
   "outputs": [],
   "source": [
    "finished_df.head()"
   ]
  },
  {
   "cell_type": "code",
   "execution_count": null,
   "metadata": {},
   "outputs": [],
   "source": [
    "unfinished_mutations = sorted(set(mutations) - set(finished_df[\"mutation\"]), key=lambda m: int(m[1:-1]))\n",
    "# random.shuffle(unfinished_mutations)\n",
    "\n",
    "len(unfinished_mutations)"
   ]
  },
  {
   "cell_type": "markdown",
   "metadata": {},
   "source": [
    "### Submit jobs"
   ]
  },
  {
   "cell_type": "code",
   "execution_count": null,
   "metadata": {},
   "outputs": [],
   "source": [
    "mutations = unfinished_mutations\n",
    "pdb_mutations = [f\"1_{mutation}\" for mutation in mutations]\n",
    "pdb_mutation = \",\".join(pdb_mutations)\n",
    "\n",
    "pdb_mutation[:1000]"
   ]
  },
  {
   "cell_type": "code",
   "execution_count": null,
   "metadata": {},
   "outputs": [],
   "source": [
    "job_payload = {\n",
    "    \"api_token\": os.environ[\"API_TOKEN\"],\n",
    "    \"job_id\": JOB_ID,\n",
    "    \"job_type\": \"local\",\n",
    "    \"job_email\": \"alexey.strokach@kimlab.org\",\n",
    "    \"mutations\": [\n",
    "        {\n",
    "            \"mutations\": pdb_mutation,\n",
    "            \"protein_id\": JOB_ID,\n",
    "            \"structure_file\": \"input.pdb\",\n",
    "        }\n",
    "    ],\n",
    "}"
   ]
  },
  {
   "cell_type": "code",
   "execution_count": null,
   "metadata": {},
   "outputs": [],
   "source": [
    "r = requests.post(ELASPIC_REST_API_URL, json=job_payload)\n",
    "if not r.ok:\n",
    "    print(f\"Bad response from ELASPIC REST server: {r}\")\n",
    "else:\n",
    "    status = r.json().get(\"status\", None)\n",
    "    print(f\"status: {status}\")"
   ]
  },
  {
   "cell_type": "code",
   "execution_count": null,
   "metadata": {},
   "outputs": [],
   "source": [
    "ELASPIC_REST_API_URL = \"http://localhost:8055/\"\n",
    "\n",
    "ELASPIC_REST_API_URL"
   ]
  },
  {
   "cell_type": "code",
   "execution_count": null,
   "metadata": {},
   "outputs": [],
   "source": [
    "raise Exception(\"done\")"
   ]
  },
  {
   "cell_type": "code",
   "execution_count": null,
   "metadata": {},
   "outputs": [],
   "source": [
    "!ls ../../elaspic2/notebooks/07_benchmarks"
   ]
  },
  {
   "cell_type": "code",
   "execution_count": null,
   "metadata": {},
   "outputs": [],
   "source": [
    "df = pd.read_csv(\"../../elaspic2/notebooks/07_benchmarks/el2_rbd_affinity.csv\")"
   ]
  },
  {
   "cell_type": "code",
   "execution_count": null,
   "metadata": {},
   "outputs": [],
   "source": [
    "df.head()"
   ]
  },
  {
   "cell_type": "code",
   "execution_count": null,
   "metadata": {},
   "outputs": [],
   "source": [
    "if \"el2_pred\" not in finished_df:\n",
    "    finished_df = finished_df.merge(df[[\"mutation\", \"el2_pred\"]], how=\"left\", on=[\"mutation\"])"
   ]
  },
  {
   "cell_type": "code",
   "execution_count": null,
   "metadata": {},
   "outputs": [],
   "source": [
    "# assert finished_df[\"el2_pred\"].notnull().all()"
   ]
  },
  {
   "cell_type": "code",
   "execution_count": null,
   "metadata": {},
   "outputs": [],
   "source": [
    "finished_df[finished_df[\"el2_pred\"].isnull()]"
   ]
  },
  {
   "cell_type": "code",
   "execution_count": null,
   "metadata": {},
   "outputs": [],
   "source": [
    "# with engine.connect() as conn:\n",
    "#     for tup in finished_df.itertuples():\n",
    "#         if pd.isnull(tup.el2_pred):\n",
    "#             continue\n",
    "#         sql = f\"\"\"\\\n",
    "# update elaspic_interface_mutation_local\n",
    "# set el2_score = {tup.el2_pred}\n",
    "# where protein_id = '{tup.protein_id}' and mutation = '{tup.mutation}'\n",
    "# \"\"\"\n",
    "#         conn.execute(sql)"
   ]
  },
  {
   "cell_type": "code",
   "execution_count": null,
   "metadata": {},
   "outputs": [],
   "source": []
  },
  {
   "cell_type": "code",
   "execution_count": null,
   "metadata": {},
   "outputs": [],
   "source": []
  },
  {
   "cell_type": "code",
   "execution_count": null,
   "metadata": {},
   "outputs": [],
   "source": [
    "http://elaspic.ccbr.proteinsolver.org/result/spike-sars2-in/6zoy-rbd.pdb.F165T/?p=h11709"
   ]
  },
  {
   "cell_type": "code",
   "execution_count": null,
   "metadata": {},
   "outputs": [],
   "source": [
    "import re\n",
    "\n",
    "\n",
    "def getPnM(p):\n",
    "    \"\"\"Return protein and mutation from the format PROT.MUT.\"\"\"\n",
    "    protnMut = re.match(r\"(.+)\\.([A-Za-z]{1}[0-9]+[A-Za-z]{1}_?[0-9]*)$\", p)\n",
    "    if not protnMut:\n",
    "        return None, None\n",
    "    return protnMut.group(1).upper(), protnMut.group(2).upper()"
   ]
  },
  {
   "cell_type": "code",
   "execution_count": null,
   "metadata": {},
   "outputs": [],
   "source": [
    "path = \"/result/spike-sars2-in/6zoy-rbd.pdb.F165T/\"\n",
    "\n",
    "currentIDs = path.split(\"/\")\n",
    "\n",
    "currentIDs"
   ]
  },
  {
   "cell_type": "code",
   "execution_count": null,
   "metadata": {},
   "outputs": [],
   "source": [
    "getPnM(currentIDs[3])"
   ]
  },
  {
   "cell_type": "code",
   "execution_count": null,
   "metadata": {},
   "outputs": [],
   "source": [
    "xxx =\"http://elaspic.ccbr.proteinsolver.org/result/spike-sars2-in/6zoy-rbd.pdb.F165T/?p=h11709\""
   ]
  },
  {
   "cell_type": "code",
   "execution_count": null,
   "metadata": {},
   "outputs": [],
   "source": []
  },
  {
   "cell_type": "code",
   "execution_count": null,
   "metadata": {},
   "outputs": [],
   "source": [
    "!ls -al"
   ]
  },
  {
   "cell_type": "code",
   "execution_count": null,
   "metadata": {},
   "outputs": [],
   "source": [
    "os.makedirs()"
   ]
  },
  {
   "cell_type": "code",
   "execution_count": null,
   "metadata": {},
   "outputs": [],
   "source": [
    "import random\n",
    "\n",
    "\"%06x\" % random.randint(1, 16777215)"
   ]
  },
  {
   "cell_type": "code",
   "execution_count": null,
   "metadata": {},
   "outputs": [],
   "source": [
    "import uuid\n",
    "\n",
    "uuid.uuid4().hex[:12]"
   ]
  },
  {
   "cell_type": "code",
   "execution_count": null,
   "metadata": {},
   "outputs": [],
   "source": [
    "0o002"
   ]
  }
 ],
 "metadata": {
  "kernelspec": {
   "display_name": "Python 3",
   "language": "python",
   "name": "python3"
  },
  "language_info": {
   "codemirror_mode": {
    "name": "ipython",
    "version": 3
   },
   "file_extension": ".py",
   "mimetype": "text/x-python",
   "name": "python",
   "nbconvert_exporter": "python",
   "pygments_lexer": "ipython3",
   "version": "3.8.6"
  }
 },
 "nbformat": 4,
 "nbformat_minor": 4
}
