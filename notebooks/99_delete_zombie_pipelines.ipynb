{
 "cells": [
  {
   "cell_type": "markdown",
   "metadata": {},
   "source": [
    "## Summary\n",
    "\n",
    "Use this notebook to delete lingering pipelines from GitLab.\n",
    "\n",
    "---"
   ]
  },
  {
   "cell_type": "markdown",
   "metadata": {},
   "source": [
    "## Imports"
   ]
  },
  {
   "cell_type": "code",
   "execution_count": null,
   "metadata": {},
   "outputs": [],
   "source": [
    "import asyncio\n",
    "import json\n",
    "import os\n",
    "import shlex\n",
    "import subprocess\n",
    "\n",
    "import aiohttp\n",
    "from unsync import unsync"
   ]
  },
  {
   "cell_type": "markdown",
   "metadata": {},
   "source": [
    "## Parameters"
   ]
  },
  {
   "cell_type": "code",
   "execution_count": null,
   "metadata": {},
   "outputs": [],
   "source": [
    "PROJECT_ID = 21481523"
   ]
  },
  {
   "cell_type": "code",
   "execution_count": null,
   "metadata": {},
   "outputs": [],
   "source": [
    "GITLAB_AUTH_TOKEN = os.environ[\"GITLAB_AUTH_TOKEN\"]"
   ]
  },
  {
   "cell_type": "code",
   "execution_count": null,
   "metadata": {},
   "outputs": [],
   "source": [
    "PIPELINES_TO_KEEP = [229764931]"
   ]
  },
  {
   "cell_type": "markdown",
   "metadata": {},
   "source": [
    "## Workspace"
   ]
  },
  {
   "cell_type": "markdown",
   "metadata": {},
   "source": [
    "The status of pipelines, one of: created, waiting_for_resource, preparing, pending, running, success, failed, canceled, skipped, manual, scheduled\n",
    "\n",
    "<https://docs.gitlab.com/ee/api/pipelines.html#list-project-pipelines>."
   ]
  },
  {
   "cell_type": "code",
   "execution_count": null,
   "metadata": {},
   "outputs": [],
   "source": [
    "async def get_pipeline_infos(session):\n",
    "    next_url = (\n",
    "        f\"https://gitlab.com/api/v4/projects/{PROJECT_ID}/pipelines?per_page=100\"\n",
    "    )\n",
    "    pipeline_infos = []\n",
    "    while next_url is not None:\n",
    "        async with session.get(\n",
    "            next_url, headers=[(\"PRIVATE-TOKEN\", GITLAB_AUTH_TOKEN)]\n",
    "        ) as response:\n",
    "            try:\n",
    "                next_url = response.links[\"next\"][\"url\"]\n",
    "            except KeyError:\n",
    "                next_url = None\n",
    "            pipeline_infos += await response.json()\n",
    "    return pipeline_infos"
   ]
  },
  {
   "cell_type": "code",
   "execution_count": null,
   "metadata": {},
   "outputs": [],
   "source": [
    "def filter_pipeline_infos(\n",
    "    pipeline_infos,\n",
    "    ids_to_exclude=PIPELINES_TO_KEEP,\n",
    "    states_to_keep=(\"pending\", \"running\", \"success\"),\n",
    "):\n",
    "    pipeline_infos = [\n",
    "        pi\n",
    "        for pi in pipeline_infos\n",
    "        if pi[\"id\"] not in ids_to_exclude and pi[\"status\"] in states_to_keep\n",
    "    ]\n",
    "    return pipeline_infos"
   ]
  },
  {
   "cell_type": "code",
   "execution_count": null,
   "metadata": {},
   "outputs": [],
   "source": [
    "async def retry_pipelines(session, pipeline_infos):\n",
    "    for pipeline_info in pipeline_infos:\n",
    "        url = (\n",
    "            f\"https://gitlab.com/api/v4/projects/{PROJECT_ID}/pipelines/{pipeline_info['id']}/retry\"\n",
    "        )\n",
    "        async with session.post(\n",
    "            url,\n",
    "            headers=[(\"PRIVATE-TOKEN\", GITLAB_AUTH_TOKEN)],\n",
    "        ) as response:\n",
    "            assert response.ok"
   ]
  },
  {
   "cell_type": "code",
   "execution_count": null,
   "metadata": {},
   "outputs": [],
   "source": [
    "async def delete_pipelines(session, pipeline_infos):\n",
    "    for pipeline_info in pipeline_infos:\n",
    "        url = f\"https://gitlab.com/api/v4/projects/{PROJECT_ID}/pipelines/{pipeline_info['id']}\"\n",
    "        async with session.delete(\n",
    "            url,\n",
    "            headers=[(\"PRIVATE-TOKEN\", GITLAB_AUTH_TOKEN)],\n",
    "        ) as response:\n",
    "            assert response.ok"
   ]
  },
  {
   "cell_type": "code",
   "execution_count": null,
   "metadata": {},
   "outputs": [],
   "source": [
    "# Remove succeeded pipelines\n",
    "async with aiohttp.ClientSession() as session:\n",
    "    pipeline_infos = await get_pipeline_infos(session)\n",
    "    print(len(pipeline_infos), {p[\"status\"] for p in pipeline_infos})\n",
    "    pipeline_infos = filter_pipeline_infos(pipeline_infos, states_to_keep=(\"success\"))\n",
    "    print(len(pipeline_infos))\n",
    "    await delete_pipelines(session, pipeline_infos)"
   ]
  },
  {
   "cell_type": "code",
   "execution_count": null,
   "metadata": {},
   "outputs": [],
   "source": [
    "# Retry failed pipelines\n",
    "async with aiohttp.ClientSession() as session:\n",
    "    pipeline_infos = await get_pipeline_infos(session)\n",
    "    print(len(pipeline_infos), {p[\"status\"] for p in pipeline_infos})\n",
    "    pipeline_infos = filter_pipeline_infos(pipeline_infos, states_to_keep=(\"failed\"))\n",
    "    print(len(pipeline_infos))\n",
    "    await delete_pipelines(session, pipeline_infos)"
   ]
  },
  {
   "cell_type": "code",
   "execution_count": null,
   "metadata": {},
   "outputs": [],
   "source": []
  }
 ],
 "metadata": {
  "kernelspec": {
   "display_name": "Python 3",
   "language": "python",
   "name": "python3"
  },
  "language_info": {
   "codemirror_mode": {
    "name": "ipython",
    "version": 3
   },
   "file_extension": ".py",
   "mimetype": "text/x-python",
   "name": "python",
   "nbconvert_exporter": "python",
   "pygments_lexer": "ipython3",
   "version": "3.8.6"
  }
 },
 "nbformat": 4,
 "nbformat_minor": 4
}
