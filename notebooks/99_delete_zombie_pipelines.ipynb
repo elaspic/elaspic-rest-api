{
 "cells": [
  {
   "cell_type": "markdown",
   "metadata": {},
   "source": [
    "## Summary\n",
    "\n",
    "Use this notebook to delete lingering pipelines from GitLab.\n",
    "\n",
    "---"
   ]
  },
  {
   "cell_type": "markdown",
   "metadata": {},
   "source": [
    "## Imports"
   ]
  },
  {
   "cell_type": "code",
   "execution_count": null,
   "metadata": {},
   "outputs": [],
   "source": [
    "import json\n",
    "import os\n",
    "import shlex\n",
    "import subprocess"
   ]
  },
  {
   "cell_type": "markdown",
   "metadata": {},
   "source": [
    "## Parameters"
   ]
  },
  {
   "cell_type": "code",
   "execution_count": null,
   "metadata": {},
   "outputs": [],
   "source": [
    "PROJECT_ID = 21481523"
   ]
  },
  {
   "cell_type": "code",
   "execution_count": null,
   "metadata": {},
   "outputs": [],
   "source": [
    "GITLAB_AUTH_TOKEN = os.environ['GITLAB_AUTH_TOKEN']"
   ]
  },
  {
   "cell_type": "code",
   "execution_count": null,
   "metadata": {},
   "outputs": [],
   "source": [
    "PIPELINES_TO_KEEP = [229764931]"
   ]
  },
  {
   "cell_type": "markdown",
   "metadata": {},
   "source": [
    "## Workspace"
   ]
  },
  {
   "cell_type": "code",
   "execution_count": null,
   "metadata": {},
   "outputs": [],
   "source": [
    "def get_pipeline_infos():\n",
    "    proc = subprocess.run(\n",
    "        shlex.split(\n",
    "            f'curl --header \"PRIVATE-TOKEN: {GITLAB_AUTH_TOKEN}\" '\n",
    "            f\"https://gitlab.com/api/v4/projects/{PROJECT_ID}/pipelines?per_page=100\"\n",
    "        ),\n",
    "        check=True,\n",
    "        capture_output=True,\n",
    "    )\n",
    "    pipeline_infos = json.loads(proc.stdout)\n",
    "    return pipeline_infos\n",
    "\n",
    "\n",
    "def get_pipeline_ids(pipeline_infos):\n",
    "    pipeline_ids = [\n",
    "        pipeline_id\n",
    "        for pipeline_info in pipeline_infos\n",
    "        if (pipeline_id := pipeline_info[\"id\"]) not in PIPELINES_TO_KEEP\n",
    "    ]\n",
    "    return pipeline_ids\n",
    "\n",
    "\n",
    "def delete_pipelines(pipeline_ids):\n",
    "    for pipeline_id in pipeline_ids:\n",
    "        proc = subprocess.run(\n",
    "            shlex.split(\n",
    "                f'curl --header \"PRIVATE-TOKEN: {GITLAB_AUTH_TOKEN}\" '\n",
    "                '--request \"DELETE\" '\n",
    "                f\"https://gitlab.com/api/v4/projects/{PROJECT_ID}/pipelines/{pipeline_id}\"\n",
    "            ),\n",
    "            check=True,\n",
    "        )"
   ]
  },
  {
   "cell_type": "code",
   "execution_count": null,
   "metadata": {},
   "outputs": [],
   "source": [
    "pipeline_ids = None\n",
    "while pipeline_ids is None or len(pipeline_ids) > 0:\n",
    "    pipeline_infos = get_pipeline_infos()\n",
    "    pipeline_ids = get_pipeline_ids(pipeline_infos)\n",
    "    print(len(pipeline_ids))\n",
    "    delete_pipelines(pipeline_ids)"
   ]
  },
  {
   "cell_type": "code",
   "execution_count": null,
   "metadata": {},
   "outputs": [],
   "source": []
  }
 ],
 "metadata": {
  "kernelspec": {
   "display_name": "Python 3",
   "language": "python",
   "name": "python3"
  },
  "language_info": {
   "codemirror_mode": {
    "name": "ipython",
    "version": 3
   },
   "file_extension": ".py",
   "mimetype": "text/x-python",
   "name": "python",
   "nbconvert_exporter": "python",
   "pygments_lexer": "ipython3",
   "version": "3.8.6"
  }
 },
 "nbformat": 4,
 "nbformat_minor": 4
}
