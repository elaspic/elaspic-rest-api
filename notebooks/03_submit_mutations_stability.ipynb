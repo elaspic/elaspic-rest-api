{
 "cells": [
  {
   "cell_type": "markdown",
   "metadata": {},
   "source": [
    "## Summary\n",
    "\n",
    "---"
   ]
  },
  {
   "cell_type": "markdown",
   "metadata": {},
   "source": [
    "## Imports"
   ]
  },
  {
   "cell_type": "code",
   "execution_count": null,
   "metadata": {},
   "outputs": [],
   "source": [
    "from dotenv import load_dotenv\n",
    "\n",
    "load_dotenv(\"../.env\", override=True)"
   ]
  },
  {
   "cell_type": "code",
   "execution_count": null,
   "metadata": {},
   "outputs": [],
   "source": [
    "import io\n",
    "import os\n",
    "import random\n",
    "import tempfile\n",
    "from pathlib import Path\n",
    "\n",
    "import pandas as pd\n",
    "import requests\n",
    "import sqlalchemy as sa\n",
    "from kmbio import PDB\n",
    "from kmtools import structure_tools"
   ]
  },
  {
   "cell_type": "code",
   "execution_count": null,
   "metadata": {},
   "outputs": [],
   "source": [
    "pd.set_option(\"max_columns\", 1_000)\n",
    "pd.set_option(\"max_rows\", 1_000)"
   ]
  },
  {
   "cell_type": "markdown",
   "metadata": {},
   "source": [
    "## Parameters"
   ]
  },
  {
   "cell_type": "code",
   "execution_count": null,
   "metadata": {},
   "outputs": [],
   "source": [
    "NOTEBOOK_DIR = Path(\"03_submit_mutations_stability\").resolve()\n",
    "NOTEBOOK_DIR.mkdir(exist_ok=True)\n",
    "\n",
    "NOTEBOOK_DIR"
   ]
  },
  {
   "cell_type": "code",
   "execution_count": null,
   "metadata": {},
   "outputs": [],
   "source": [
    "JOB_ID = \"spike-sars2-co\"\n",
    "\n",
    "JOB_ID"
   ]
  },
  {
   "cell_type": "code",
   "execution_count": null,
   "metadata": {},
   "outputs": [],
   "source": [
    "USER_INPUT_DIR = Path(os.environ[\"DATA_DIR\"], \"user_input\").resolve(strict=True)\n",
    "JOB_DIR = USER_INPUT_DIR.joinpath(JOB_ID)\n",
    "JOB_DIR.mkdir(exist_ok=True)\n",
    "\n",
    "JOB_DIR"
   ]
  },
  {
   "cell_type": "code",
   "execution_count": null,
   "metadata": {},
   "outputs": [],
   "source": [
    "ELASPIC_REST_API_URL = \"http://localhost:8055\"\n",
    "\n",
    "ELASPIC_REST_API_URL"
   ]
  },
  {
   "cell_type": "code",
   "execution_count": null,
   "metadata": {},
   "outputs": [],
   "source": [
    "DB_USER = os.environ[\"DB_USER\"]\n",
    "DB_PASSWORD = os.environ[\"DB_PASSWORD\"]\n",
    "DB_HOST = os.environ[\"DB_HOST\"]\n",
    "DB_PORT = os.environ[\"DB_PORT\"]\n",
    "\n",
    "engine = sa.create_engine(f\"mysql://{DB_USER}:{DB_PASSWORD}@{DB_HOST}:{DB_PORT}/elaspic_webserver\")"
   ]
  },
  {
   "cell_type": "markdown",
   "metadata": {},
   "source": [
    "## Helper functions"
   ]
  },
  {
   "cell_type": "code",
   "execution_count": null,
   "metadata": {},
   "outputs": [],
   "source": [
    "def download_csv(url):\n",
    "    header = {\n",
    "        \"User-Agent\": \"Mozilla/5.0 (X11; Linux x86_64) AppleWebKit/537.36 (KHTML, like Gecko) Chrome/50.0.2661.75 Safari/537.36\",\n",
    "        \"X-Requested-With\": \"XMLHttpRequest\",\n",
    "    }\n",
    "    df = pd.read_csv(io.StringIO(requests.get(url, headers=header).text))\n",
    "    return df"
   ]
  },
  {
   "cell_type": "code",
   "execution_count": null,
   "metadata": {},
   "outputs": [],
   "source": [
    "def structure_to_blob(structure):\n",
    "    with tempfile.NamedTemporaryFile(suffix=\".pdb\") as out:\n",
    "        PDB.save(structure, out.name)\n",
    "        with open(out.name, \"rt\") as fin:\n",
    "            data = fin.read()\n",
    "    return data"
   ]
  },
  {
   "cell_type": "code",
   "execution_count": null,
   "metadata": {},
   "outputs": [],
   "source": [
    "def sequence_matches_structure(sequence, structure_blob):\n",
    "    with tempfile.NamedTemporaryFile(suffix=\".pdb\") as tmp_file:\n",
    "        with open(tmp_file.name, \"wt\") as fout:\n",
    "            fout.write(structure_blob)\n",
    "        structure = PDB.load(tmp_file.name)\n",
    "\n",
    "    chain_sequence = structure_tools.get_chain_sequence(\n",
    "        structure[0][\"A\"], if_unknown=\"replace\", unknown_residue_marker=\"\"\n",
    "    )\n",
    "    return sequence == chain_sequence"
   ]
  },
  {
   "cell_type": "code",
   "execution_count": null,
   "metadata": {},
   "outputs": [],
   "source": [
    "def parse_mutation_data(structure, stability_df):\n",
    "    amino_acids = \"GVALICMFWPDESTYQNKRH\"\n",
    "    assert len(set(amino_acids)) == 20\n",
    "\n",
    "    chain_sequence = structure_tools.get_chain_sequence(\n",
    "        structure[0][\"A\"], if_unknown=\"replace\", unknown_residue_marker=\"\"\n",
    "    )\n",
    "    resnum_to_idx_mapping = {r.id[1]: i for i, r in enumerate(structure[0][\"A\"])}\n",
    "\n",
    "    mutations = []\n",
    "    effects = []\n",
    "    num_mismatches = 0\n",
    "    for tup in stability_df.itertuples():\n",
    "        idx = resnum_to_idx_mapping.get(tup.site_SARS2)\n",
    "        if idx is None or chain_sequence[idx] != tup.wildtype:\n",
    "            num_mismatches += 1\n",
    "            continue\n",
    "        if tup.wildtype not in amino_acids or tup.mutant not in amino_acids:\n",
    "            if tup.mutant != \"*\":\n",
    "                print(f\"Skipping strange mutation {tup.wildtype} → {tup.mutant}.\")\n",
    "            continue\n",
    "        elif tup.wildtype == tup.mutant:\n",
    "            # Exclude \"mutations\" where the wildtype and mutant residues are the same\n",
    "            continue\n",
    "        elif pd.isnull(tup.expr_avg):\n",
    "            # For some reason, the effect is missing in some rows\n",
    "            continue\n",
    "        mutations.append(f\"{tup.wildtype}{idx + 1}{tup.mutant}\")\n",
    "        effects.append(tup.expr_avg)\n",
    "    print(f\"Num mismatches: {num_mismatches}.\")\n",
    "\n",
    "    results = [\n",
    "        {\n",
    "            \"dataset\": NOTEBOOK_DIR.name,\n",
    "            \"name\": f\"spike-unbound|spike-closed\",\n",
    "            \"protein_sequence\": chain_sequence,\n",
    "            \"mutation\": mutations,\n",
    "            \"effect\": effects,\n",
    "            \"effect_type\": \"Deep mutation scan\",\n",
    "            \"protein_structure\": structure_to_blob(structure),\n",
    "        }\n",
    "    ]\n",
    "    return results"
   ]
  },
  {
   "cell_type": "markdown",
   "metadata": {},
   "source": [
    "## Workspace"
   ]
  },
  {
   "cell_type": "markdown",
   "metadata": {},
   "source": [
    "### Download structure"
   ]
  },
  {
   "cell_type": "code",
   "execution_count": null,
   "metadata": {},
   "outputs": [],
   "source": [
    "structure_ref = PDB.load(\"rcsb://6ZOY.pdb\")"
   ]
  },
  {
   "cell_type": "code",
   "execution_count": null,
   "metadata": {},
   "outputs": [],
   "source": [
    "PDB.view_structure(structure_ref)"
   ]
  },
  {
   "cell_type": "code",
   "execution_count": null,
   "metadata": {},
   "outputs": [],
   "source": [
    "structure = structure_tools.extract_domain(structure_ref, [structure_tools.DomainDef(0, \"A\", 260, 480)])"
   ]
  },
  {
   "cell_type": "code",
   "execution_count": null,
   "metadata": {},
   "outputs": [],
   "source": [
    "PDB.view_structure(structure)"
   ]
  },
  {
   "cell_type": "code",
   "execution_count": null,
   "metadata": {},
   "outputs": [],
   "source": [
    "output_file = JOB_DIR.joinpath(\"input.pdb\")\n",
    "\n",
    "PDB.save(structure, output_file)"
   ]
  },
  {
   "cell_type": "code",
   "execution_count": null,
   "metadata": {},
   "outputs": [],
   "source": [
    "try:\n",
    "    os.chmod(output_file, 0o666)\n",
    "except Exception as e:\n",
    "    print(e)"
   ]
  },
  {
   "cell_type": "markdown",
   "metadata": {},
   "source": [
    "### Download mutations"
   ]
  },
  {
   "cell_type": "code",
   "execution_count": null,
   "metadata": {},
   "outputs": [],
   "source": [
    "stability_df = download_csv(\"https://ars.els-cdn.com/content/image/1-s2.0-S0092867420310035-mmc2.csv\")"
   ]
  },
  {
   "cell_type": "code",
   "execution_count": null,
   "metadata": {},
   "outputs": [],
   "source": [
    "stability_df.head()"
   ]
  },
  {
   "cell_type": "markdown",
   "metadata": {},
   "source": [
    "### Parse mutation data"
   ]
  },
  {
   "cell_type": "code",
   "execution_count": null,
   "metadata": {},
   "outputs": [],
   "source": [
    "protein_mutation_info = parse_mutation_data(structure, stability_df)[0]\n",
    "\n",
    "list(protein_mutation_info.keys())"
   ]
  },
  {
   "cell_type": "code",
   "execution_count": null,
   "metadata": {},
   "outputs": [],
   "source": [
    "protein_mutation_info[\"mutation\"][0]"
   ]
  },
  {
   "cell_type": "markdown",
   "metadata": {},
   "source": [
    "### Remove finished mutations"
   ]
  },
  {
   "cell_type": "code",
   "execution_count": null,
   "metadata": {},
   "outputs": [],
   "source": [
    "sql = F\"\"\"\\\n",
    "select *\n",
    "from elaspic_core_mutation_local\n",
    "where protein_id = '{JOB_ID}' and ddg is not NULL;\n",
    "\"\"\"\n",
    "\n",
    "finished_df = pd.read_sql_query(sql, engine)\n",
    "len(finished_df)"
   ]
  },
  {
   "cell_type": "code",
   "execution_count": null,
   "metadata": {},
   "outputs": [],
   "source": [
    "finished_df.head()"
   ]
  },
  {
   "cell_type": "code",
   "execution_count": null,
   "metadata": {},
   "outputs": [],
   "source": [
    "finished_df = finished_df[finished_df[\"ddg\"].notnull()]\n",
    "len(finished_df)"
   ]
  },
  {
   "cell_type": "code",
   "execution_count": null,
   "metadata": {},
   "outputs": [],
   "source": [
    "len(protein_mutation_info[\"mutation\"])"
   ]
  },
  {
   "cell_type": "code",
   "execution_count": null,
   "metadata": {},
   "outputs": [],
   "source": [
    "finished_mutations = set(finished_df[\"mutation\"])\n",
    "unfinished_mutations = list(set(protein_mutation_info[\"mutation\"]) - finished_mutations)\n",
    "# random.shuffle(unfinished_mutations)\n",
    "\n",
    "len(unfinished_mutations)"
   ]
  },
  {
   "cell_type": "markdown",
   "metadata": {},
   "source": [
    "### Submit jobs"
   ]
  },
  {
   "cell_type": "code",
   "execution_count": null,
   "metadata": {},
   "outputs": [],
   "source": [
    "mutations = unfinished_mutations\n",
    "pdb_mutations = [f\"1_{mutation}\" for mutation in mutations]\n",
    "pdb_mutation = \",\".join(pdb_mutations)\n",
    "\n",
    "pdb_mutation[:1000]"
   ]
  },
  {
   "cell_type": "code",
   "execution_count": null,
   "metadata": {},
   "outputs": [],
   "source": [
    "job_payload = {\n",
    "    \"api_token\": os.environ[\"API_TOKEN\"],\n",
    "    \"job_id\": JOB_ID,\n",
    "    \"job_type\": \"local\",\n",
    "    \"job_email\": \"alexey.strokach@kimlab.org\",\n",
    "    \"mutations\": [\n",
    "        {\n",
    "            \"mutations\": pdb_mutation,\n",
    "            \"protein_id\": JOB_ID,\n",
    "            \"structure_file\": \"input.pdb\",\n",
    "        }\n",
    "    ],\n",
    "}"
   ]
  },
  {
   "cell_type": "code",
   "execution_count": null,
   "metadata": {},
   "outputs": [],
   "source": [
    "r = requests.post(ELASPIC_REST_API_URL, json=job_payload)\n",
    "if not r.ok:\n",
    "    print(f\"Bad response from ELASPIC REST server: {r}\")\n",
    "else:\n",
    "    status = r.json().get(\"status\", None)\n",
    "    print(f\"status: {status}\")"
   ]
  },
  {
   "cell_type": "code",
   "execution_count": null,
   "metadata": {},
   "outputs": [],
   "source": [
    "ELASPIC_REST_API_URL = \"http://localhost:8055/\"\n",
    "\n",
    "ELASPIC_REST_API_URL"
   ]
  },
  {
   "cell_type": "code",
   "execution_count": null,
   "metadata": {},
   "outputs": [],
   "source": []
  },
  {
   "cell_type": "code",
   "execution_count": null,
   "metadata": {},
   "outputs": [],
   "source": [
    "!ls ../../elaspic2/notebooks/07_benchmarks"
   ]
  },
  {
   "cell_type": "code",
   "execution_count": null,
   "metadata": {},
   "outputs": [],
   "source": [
    "df = pd.read_csv(\"../../elaspic2/notebooks/07_benchmarks/el2_rbd_stability.csv\")"
   ]
  },
  {
   "cell_type": "code",
   "execution_count": null,
   "metadata": {},
   "outputs": [],
   "source": [
    "df.head()"
   ]
  },
  {
   "cell_type": "code",
   "execution_count": null,
   "metadata": {},
   "outputs": [],
   "source": []
  },
  {
   "cell_type": "code",
   "execution_count": null,
   "metadata": {},
   "outputs": [],
   "source": [
    "if \"el2_pred\" not in finished_df:\n",
    "    finished_df = finished_df.merge(df[[\"mutation\", \"el2_pred\"]], how=\"left\", on=[\"mutation\"])"
   ]
  },
  {
   "cell_type": "code",
   "execution_count": null,
   "metadata": {},
   "outputs": [],
   "source": [
    "assert finished_df[\"el2_pred\"].notnull().all()"
   ]
  },
  {
   "cell_type": "code",
   "execution_count": null,
   "metadata": {},
   "outputs": [],
   "source": [
    "len(finished_df)"
   ]
  },
  {
   "cell_type": "code",
   "execution_count": null,
   "metadata": {},
   "outputs": [],
   "source": [
    "# with engine.connect() as conn:\n",
    "#     for tup in finished_df.itertuples():\n",
    "#         sql = f\"\"\"\\\n",
    "# update elaspic_core_mutation_local\n",
    "# set el2_score = {tup.el2_pred}\n",
    "# where protein_id = '{tup.protein_id}' and mutation = '{tup.mutation}'\n",
    "# \"\"\"\n",
    "#         conn.execute(sql)"
   ]
  },
  {
   "cell_type": "code",
   "execution_count": null,
   "metadata": {},
   "outputs": [],
   "source": []
  },
  {
   "cell_type": "code",
   "execution_count": null,
   "metadata": {},
   "outputs": [],
   "source": []
  }
 ],
 "metadata": {
  "kernelspec": {
   "display_name": "Python 3",
   "language": "python",
   "name": "python3"
  },
  "language_info": {
   "codemirror_mode": {
    "name": "ipython",
    "version": 3
   },
   "file_extension": ".py",
   "mimetype": "text/x-python",
   "name": "python",
   "nbconvert_exporter": "python",
   "pygments_lexer": "ipython3",
   "version": "3.8.6"
  }
 },
 "nbformat": 4,
 "nbformat_minor": 4
}
